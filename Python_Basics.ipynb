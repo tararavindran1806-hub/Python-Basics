{
  "nbformat": 4,
  "nbformat_minor": 0,
  "metadata": {
    "colab": {
      "provenance": []
    },
    "kernelspec": {
      "name": "python3",
      "display_name": "Python 3"
    },
    "language_info": {
      "name": "python"
    }
  },
  "cells": [
    {
      "cell_type": "markdown",
      "source": [
        "#Python Basics\n",
        "\n",
        "1. What is Python, and why is it popular?\n",
        "\n",
        "-Python language is a formal langauage for creating instruction for a computer to follow:\n",
        "- set of rules and symbols that define the process of writing computer programming\n",
        "- predefined set ruled and symbols use to instruct a computer.\n",
        "It is popular because it is:\n",
        "- Widely used\n",
        "- It has lots of libraries, where all optimized and well written codes lekie pandas are kept\n",
        "- Python community- People who create and share codes for others to use and there are in total 1,37,000 libraries.\n",
        "-Allows to be used in backend, frontend, data bases image processing and is very useful.\n",
        "- Easy to learn, versatile and has a huge community.\n",
        "\n",
        "\n",
        "2. What is an interpreter in Python?\n",
        "\n",
        "- It executes Python code line by line and converts python code into machine- understandable form.\n",
        "\n",
        "3. What are pre-defined keywords in Python?\n",
        "\n",
        "- Keywords >> are predefined words that hold a special meaning and have specific purpose in python.\n",
        "Some e.g. of keywords- if, else, for, while, class, def, import, etc.\n",
        "\n",
        "\n",
        "4. Can keywords be used as variable names?\n",
        "\n",
        " - No, keywords are reserved words and cannot be used as variable names.\n",
        "\n",
        "\n",
        "5. What is mutability in Python?\n",
        "\n",
        "- Mutability >> Objects/ container where state or value can be changed after they are created are called mutable objects/ container.\n",
        "\n",
        "\t•\tMutable: Lists, Sets, Dictionaries\n",
        "\n",
        "\t•\tImmutable: Tuples, Strings, Numbers\n",
        "\n",
        "\n",
        "6. Why are lists mutable, but tuples are immutable?\n",
        "\n",
        "\t- Lists are mutable because their elements can be cahnged, aaded or removed after the list is created.This allows modification of data.\n",
        "  - Tuples are immutable because once it is created it cannot be changed.This provides data security, consistency and faster performance.\n",
        "\n",
        "7. What is the Difference between == and is operators in python?\n",
        "\n",
        "\t•\t== → checks value equality\n",
        "\n",
        "\t•\tis → checks identity (memory address)\n",
        "\n",
        "8. What are Logical operators in Python?\n",
        "\n",
        "\t•\tand → True if both are true\n",
        "\n",
        "\t•\tor → True if at least one is true\n",
        "\n",
        "\t•\tnot → negates condition\n",
        "\n",
        "\n",
        "9. What is type casting in Python?\n",
        "\n",
        "- #Type casting/type conversion>> The process of changing the data type of a value/object basically converting one data type into another.\n",
        "- It is used because while executing/computation using operators, there can be mismatch between the datatype.\n",
        "\n",
        "\n",
        "10. What is the difference between Implicit & Explicit type casting?\n",
        "\n",
        "\t•\tImplicit: Python converts automatically (e.g., int + float → float). Implicit typecasting is understood by python.\n",
        "  \n",
        "\t•\tExplicit typecasting >> convert data type using inbuilt functions like str, int, float, bool, etc.\n",
        "\n",
        "\n",
        "11. What is the purpose of conditional statements in python?\n",
        "\n",
        "- They control execution flow (if, elif, else).\n",
        "\n",
        "12. How does elif statement work?\n",
        "\n",
        "- It checks multiple conditions one by one until one is true.\n",
        "\n",
        "13. What is the difference between for and while loops?\n",
        "\n",
        "\t•\tfor loop → iterate over a sequence of elements >> strings, list.\n",
        "\n",
        "\t•\twhile loop → repeatedly executed a block of code untill a condition is met/ true.\n",
        "\n",
        "14. Describe a scenario where loop while is more suitable than for loop.\n",
        "\n",
        "- A while loop is more suitable when the number of iterations is not lnown in advance and the loop should continue until a certain condition becomes false.\n",
        "\n"
      ],
      "metadata": {
        "id": "6h5P2LhP6p0v"
      }
    },
    {
      "cell_type": "markdown",
      "source": [
        "Practical Questions"
      ],
      "metadata": {
        "id": "LNHdrKRBBVru"
      }
    },
    {
      "cell_type": "code",
      "source": [
        "#1 Write python program to Print \"Hello World!\"\n",
        "print(\"Hello World!\")"
      ],
      "metadata": {
        "colab": {
          "base_uri": "https://localhost:8080/"
        },
        "id": "Jd-cBkSa9x74",
        "outputId": "c391c093-43c3-4ca0-81e9-e3a41035910f"
      },
      "execution_count": 3,
      "outputs": [
        {
          "output_type": "stream",
          "name": "stdout",
          "text": [
            "Hello World!\n"
          ]
        }
      ]
    },
    {
      "cell_type": "code",
      "source": [
        "#2 Write a python program to display your name and age\n",
        "name = \"Tara\"\n",
        "age = 27\n",
        "print(\"My name is\" ,name,\" and I am\",age,\"years old.\")"
      ],
      "metadata": {
        "colab": {
          "base_uri": "https://localhost:8080/"
        },
        "id": "WKgfESAg976Z",
        "outputId": "4815c86e-c3f3-4526-81c3-ad7880300186"
      },
      "execution_count": 7,
      "outputs": [
        {
          "output_type": "stream",
          "name": "stdout",
          "text": [
            "My name is Tara  and I am 27 years old.\n"
          ]
        }
      ]
    },
    {
      "cell_type": "code",
      "source": [
        "#3 Write a code to print all pre-defined keywords\n",
        "\n",
        "help('keywords')"
      ],
      "metadata": {
        "colab": {
          "base_uri": "https://localhost:8080/"
        },
        "id": "Ohj0DeUgAOJb",
        "outputId": "a98b5845-1dbb-4080-9b82-4ca99a837719"
      },
      "execution_count": 8,
      "outputs": [
        {
          "output_type": "stream",
          "name": "stdout",
          "text": [
            "\n",
            "Here is a list of the Python keywords.  Enter any keyword to get more help.\n",
            "\n",
            "False               class               from                or\n",
            "None                continue            global              pass\n",
            "True                def                 if                  raise\n",
            "and                 del                 import              return\n",
            "as                  elif                in                  try\n",
            "assert              else                is                  while\n",
            "async               except              lambda              with\n",
            "await               finally             nonlocal            yield\n",
            "break               for                 not                 \n",
            "\n"
          ]
        }
      ]
    },
    {
      "cell_type": "code",
      "source": [
        "#4 Write a program that checks if the word is a python keyword\n",
        "\n",
        "import keyword\n",
        "\n",
        "word= input(\"Enter a word: \")\n",
        "if keyword.iskeyword(word):\n",
        "  print(word,\"is a python keyword.\")\n",
        "else:\n",
        "  print(word,\"is not a python keyword.\")"
      ],
      "metadata": {
        "colab": {
          "base_uri": "https://localhost:8080/"
        },
        "id": "Orf6H856AzxM",
        "outputId": "2fd68f8a-6a7a-4e0c-a6f7-bb77da36fbe6"
      },
      "execution_count": 29,
      "outputs": [
        {
          "output_type": "stream",
          "name": "stdout",
          "text": [
            "Enter a word: Tra\n",
            "Tra is not a python keyword.\n"
          ]
        }
      ]
    },
    {
      "cell_type": "code",
      "source": [
        "#5 Create a list and tuple in Python and demonstrate how attempting to change an element works differentlyfor each.\n",
        "\n",
        "#List is mutable\n",
        "list_cont = [1, 2, 3, 4, \"Tara\"]\n",
        "print(list_cont)\n",
        "list_cont[0] = 10 #changing first element\n",
        "print(list_cont) #list gets changed\n",
        "\n",
        "#Tuple is immutable\n",
        "tuple_cont = (1, 2, 3, 4, \"Tara\")\n",
        "print(tuple_cont)\n",
        "tuple_cont[0] = 10 #this will give an error\n",
        "print(tuple_cont)"
      ],
      "metadata": {
        "colab": {
          "base_uri": "https://localhost:8080/",
          "height": 241
        },
        "id": "IHFMPLHHJjon",
        "outputId": "8b23e05f-e9a8-4aee-f8e9-431249304637"
      },
      "execution_count": 28,
      "outputs": [
        {
          "output_type": "stream",
          "name": "stdout",
          "text": [
            "[1, 2, 3, 4, 'Tara']\n",
            "[10, 2, 3, 4, 'Tara']\n",
            "(1, 2, 3, 4, 'Tara')\n"
          ]
        },
        {
          "output_type": "error",
          "ename": "TypeError",
          "evalue": "'tuple' object does not support item assignment",
          "traceback": [
            "\u001b[0;31m---------------------------------------------------------------------------\u001b[0m",
            "\u001b[0;31mTypeError\u001b[0m                                 Traceback (most recent call last)",
            "\u001b[0;32m/tmp/ipython-input-2761474767.py\u001b[0m in \u001b[0;36m<cell line: 0>\u001b[0;34m()\u001b[0m\n\u001b[1;32m     10\u001b[0m \u001b[0mtuple_cont\u001b[0m \u001b[0;34m=\u001b[0m \u001b[0;34m(\u001b[0m\u001b[0;36m1\u001b[0m\u001b[0;34m,\u001b[0m \u001b[0;36m2\u001b[0m\u001b[0;34m,\u001b[0m \u001b[0;36m3\u001b[0m\u001b[0;34m,\u001b[0m \u001b[0;36m4\u001b[0m\u001b[0;34m,\u001b[0m \u001b[0;34m\"Tara\"\u001b[0m\u001b[0;34m)\u001b[0m\u001b[0;34m\u001b[0m\u001b[0;34m\u001b[0m\u001b[0m\n\u001b[1;32m     11\u001b[0m \u001b[0mprint\u001b[0m\u001b[0;34m(\u001b[0m\u001b[0mtuple_cont\u001b[0m\u001b[0;34m)\u001b[0m\u001b[0;34m\u001b[0m\u001b[0;34m\u001b[0m\u001b[0m\n\u001b[0;32m---> 12\u001b[0;31m \u001b[0mtuple_cont\u001b[0m\u001b[0;34m[\u001b[0m\u001b[0;36m0\u001b[0m\u001b[0;34m]\u001b[0m \u001b[0;34m=\u001b[0m \u001b[0;36m10\u001b[0m\u001b[0;34m\u001b[0m\u001b[0;34m\u001b[0m\u001b[0m\n\u001b[0m\u001b[1;32m     13\u001b[0m \u001b[0mprint\u001b[0m\u001b[0;34m(\u001b[0m\u001b[0mtuple_cont\u001b[0m\u001b[0;34m)\u001b[0m\u001b[0;34m\u001b[0m\u001b[0;34m\u001b[0m\u001b[0m\n",
            "\u001b[0;31mTypeError\u001b[0m: 'tuple' object does not support item assignment"
          ]
        }
      ]
    },
    {
      "cell_type": "code",
      "source": [
        "#6 Write a function to deemonstrate the behaviour of mutable and immutable arguments\n",
        "\n",
        "lst = [1, 2, 3, 4.3, 3+5j, True, \"Tara\"]\n",
        "lst.append(3) #it will change\n",
        "print(lst)\n",
        "\n",
        "(1, 2, 3, 4.3, 3+5j, True, \"Tara\")\n",
        "Num.append(3) #it will not change\n",
        "print(Num)"
      ],
      "metadata": {
        "colab": {
          "base_uri": "https://localhost:8080/",
          "height": 207
        },
        "id": "U5FYcXkaM0Xj",
        "outputId": "cba60375-f23a-4550-b120-bd27e4b10e0d"
      },
      "execution_count": 41,
      "outputs": [
        {
          "output_type": "stream",
          "name": "stdout",
          "text": [
            "[1, 2, 3, 4.3, (3+5j), True, 'Tara', 3]\n"
          ]
        },
        {
          "output_type": "error",
          "ename": "AttributeError",
          "evalue": "'tuple' object has no attribute 'append'",
          "traceback": [
            "\u001b[0;31m---------------------------------------------------------------------------\u001b[0m",
            "\u001b[0;31mAttributeError\u001b[0m                            Traceback (most recent call last)",
            "\u001b[0;32m/tmp/ipython-input-187414989.py\u001b[0m in \u001b[0;36m<cell line: 0>\u001b[0;34m()\u001b[0m\n\u001b[1;32m      6\u001b[0m \u001b[0;34m\u001b[0m\u001b[0m\n\u001b[1;32m      7\u001b[0m \u001b[0mNum\u001b[0m\u001b[0;34m=\u001b[0m \u001b[0;34m(\u001b[0m\u001b[0;36m1\u001b[0m\u001b[0;34m,\u001b[0m \u001b[0;36m2\u001b[0m\u001b[0;34m,\u001b[0m \u001b[0;36m3\u001b[0m\u001b[0;34m,\u001b[0m \u001b[0;36m4.3\u001b[0m\u001b[0;34m,\u001b[0m \u001b[0;36m3\u001b[0m\u001b[0;34m+\u001b[0m\u001b[0;36m5j\u001b[0m\u001b[0;34m,\u001b[0m \u001b[0;32mTrue\u001b[0m\u001b[0;34m,\u001b[0m \u001b[0;34m\"Tara\"\u001b[0m\u001b[0;34m)\u001b[0m\u001b[0;34m\u001b[0m\u001b[0;34m\u001b[0m\u001b[0m\n\u001b[0;32m----> 8\u001b[0;31m \u001b[0mNum\u001b[0m\u001b[0;34m.\u001b[0m\u001b[0mappend\u001b[0m\u001b[0;34m(\u001b[0m\u001b[0;36m3\u001b[0m\u001b[0;34m)\u001b[0m\u001b[0;34m\u001b[0m\u001b[0;34m\u001b[0m\u001b[0m\n\u001b[0m\u001b[1;32m      9\u001b[0m \u001b[0mprint\u001b[0m\u001b[0;34m(\u001b[0m\u001b[0mNum\u001b[0m\u001b[0;34m)\u001b[0m\u001b[0;34m\u001b[0m\u001b[0;34m\u001b[0m\u001b[0m\n",
            "\u001b[0;31mAttributeError\u001b[0m: 'tuple' object has no attribute 'append'"
          ]
        }
      ]
    },
    {
      "cell_type": "code",
      "source": [
        "#7 Write a program thatperforms basic arthmeticoperations on two user input mebers.\n",
        "\n",
        "a= int(input(\"Enter first number: \"))\n",
        "b= int(input(\"Enter second number:\"))\n",
        "print(\"Addition:\", a+b)\n",
        "print(\"Subtraction:\", a-b)\n",
        "print(\"Multiplication\", a*b)\n",
        "print(\"Division\", a/b )\n",
        "\n",
        "\n",
        "\n"
      ],
      "metadata": {
        "colab": {
          "base_uri": "https://localhost:8080/"
        },
        "id": "5_wMVzJ4PjPb",
        "outputId": "ef195e89-84c7-453a-d0be-e7260c03c5c0"
      },
      "execution_count": 43,
      "outputs": [
        {
          "output_type": "stream",
          "name": "stdout",
          "text": [
            "Enter first number: 1\n",
            "Enter second number:2\n",
            "Addition: 3\n",
            "Subtraction: -1\n",
            "Multiplication 2\n",
            "Division 0.5\n"
          ]
        }
      ]
    },
    {
      "cell_type": "code",
      "source": [
        "#8 Write a program to demonstarte the use of logical operators.\n",
        "\n",
        "a= True\n",
        "b= False\n",
        "\n",
        "print(\"a and b:\", a and b)\n",
        "print(\"a or b\", a or b)\n",
        "print(\"not a\", not a)\n"
      ],
      "metadata": {
        "colab": {
          "base_uri": "https://localhost:8080/"
        },
        "id": "Xs6XkRRbRFlC",
        "outputId": "d96240df-6a8c-4299-8bb7-84b31dae2d8c"
      },
      "execution_count": 44,
      "outputs": [
        {
          "output_type": "stream",
          "name": "stdout",
          "text": [
            "a and b: False\n",
            "a or b True\n",
            "not a False\n"
          ]
        }
      ]
    },
    {
      "cell_type": "code",
      "source": [
        "#9 Write a python code to convert user input from string to integer, float and boolean types.\n",
        "\n",
        "val = input(\"Enter a Value:\")\n",
        "print(\"integer:\", int(val))\n",
        "print(\"float:\", float(val))\n",
        "print(\"boolean:\", bool(val))"
      ],
      "metadata": {
        "colab": {
          "base_uri": "https://localhost:8080/"
        },
        "id": "P_ieJ1ueUNAZ",
        "outputId": "3ddd02b8-faa0-496b-c7be-05333368e418"
      },
      "execution_count": 71,
      "outputs": [
        {
          "output_type": "stream",
          "name": "stdout",
          "text": [
            "Enter a Value:6\n",
            "integer: 6\n",
            "float: 6.0\n",
            "boolean: True\n"
          ]
        }
      ]
    },
    {
      "cell_type": "code",
      "source": [
        "#10 Write a code to demonstarte type casting with list elements.\n",
        "\n",
        "list_1 =[\"1\", \"2\", \"3\"] #list before typecasting\n",
        "print(list_1)\n",
        "list_2 = [int(x)for x in list_1] #list after type casting\n",
        "print(list_2)\n",
        "\n"
      ],
      "metadata": {
        "colab": {
          "base_uri": "https://localhost:8080/"
        },
        "id": "BxLFlsmpR1eG",
        "outputId": "574bef0d-9994-4d8a-bfd0-6019ed1fb3c0"
      },
      "execution_count": 54,
      "outputs": [
        {
          "output_type": "stream",
          "name": "stdout",
          "text": [
            "['1', '2', '3']\n",
            "[1, 2, 3]\n"
          ]
        }
      ]
    },
    {
      "cell_type": "code",
      "source": [
        "#11 Write a program that checks if a number is positive, negative or zero.\n",
        "\n",
        "_Num_ = int(input(\"Enter a NUmber:\"))\n",
        "if _Num_ > 0:\n",
        "  print(\"Positive\")\n",
        "elif _Num_ < 0:\n",
        "  print(\"Negative\")\n",
        "else:\n",
        "  print(\"Zero\")"
      ],
      "metadata": {
        "colab": {
          "base_uri": "https://localhost:8080/"
        },
        "id": "_ivQ-Ts5ZBd4",
        "outputId": "b706b270-1a97-4e87-fe91-478afcb75af7"
      },
      "execution_count": 72,
      "outputs": [
        {
          "output_type": "stream",
          "name": "stdout",
          "text": [
            "Enter a NUmber:6\n",
            "Positive\n"
          ]
        }
      ]
    },
    {
      "cell_type": "code",
      "source": [
        "#12 Write a for loop to print numbers from 1 to 10.\n",
        "\n",
        "for i in range(1,11):\n",
        "  print(i)"
      ],
      "metadata": {
        "colab": {
          "base_uri": "https://localhost:8080/"
        },
        "id": "NNUCYJOXaH8B",
        "outputId": "7644a85d-c398-4654-a709-70c21cd03107"
      },
      "execution_count": 73,
      "outputs": [
        {
          "output_type": "stream",
          "name": "stdout",
          "text": [
            "1\n",
            "2\n",
            "3\n",
            "4\n",
            "5\n",
            "6\n",
            "7\n",
            "8\n",
            "9\n",
            "10\n"
          ]
        }
      ]
    },
    {
      "cell_type": "code",
      "source": [
        "#13 Write a Python program to find the sum of all even numbers between 1 to 50.\n",
        "total= 0\n",
        "for i in range(2, 51, 2):\n",
        "  total += i\n",
        "print(\"Sum of all even numbers between 1 and 50 is:\", total)"
      ],
      "metadata": {
        "colab": {
          "base_uri": "https://localhost:8080/"
        },
        "id": "zGhqrWn-akz9",
        "outputId": "14a304cf-4ae6-46c5-a99f-6ce7bc359877"
      },
      "execution_count": 101,
      "outputs": [
        {
          "output_type": "stream",
          "name": "stdout",
          "text": [
            "Sum of all even numbers between 1 and 50 is: 650\n"
          ]
        }
      ]
    },
    {
      "cell_type": "code",
      "source": [
        "#14 Write a program to reverse a string using while loop.\n",
        "\n",
        "s= input(\"Enter a String\")\n",
        "reversed_s= \"\"\n",
        "index= len(s)-1\n",
        "while index >= 0:\n",
        "  reversed_s += s[index]\n",
        "  index -= 1\n",
        "print(\"Reversed String:\", reversed_s)\n"
      ],
      "metadata": {
        "colab": {
          "base_uri": "https://localhost:8080/"
        },
        "id": "GIzxL-j2du6r",
        "outputId": "cb9c86fc-8ac9-4e28-c30b-825397f4909f"
      },
      "execution_count": 131,
      "outputs": [
        {
          "output_type": "stream",
          "name": "stdout",
          "text": [
            "Enter a StringTara\n",
            "Reversed String: araT\n"
          ]
        }
      ]
    },
    {
      "cell_type": "code",
      "source": [
        "#15 Write a python program to calculate the factorial of a number by the user using a while loop.\n",
        "\n",
        "num= int(input(\"Enter a number:\"))\n",
        "factorial= 1\n",
        "while num > 0:\n",
        "  factorial *= num\n",
        "  num -= 1\n",
        "print(\"Factorial:\", factorial)"
      ],
      "metadata": {
        "colab": {
          "base_uri": "https://localhost:8080/"
        },
        "id": "LzYqrdcMjbSH",
        "outputId": "91ae2e84-d5a8-4211-82a3-9df0a0a75991"
      },
      "execution_count": 134,
      "outputs": [
        {
          "output_type": "stream",
          "name": "stdout",
          "text": [
            "Enter a number:0\n",
            "Factorial: 1\n"
          ]
        }
      ]
    }
  ]
}